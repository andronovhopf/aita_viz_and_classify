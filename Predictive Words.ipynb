{
 "cells": [
  {
   "cell_type": "code",
   "execution_count": 1,
   "metadata": {},
   "outputs": [
    {
     "data": {
      "text/plain": [
       "63215"
      ]
     },
     "execution_count": 1,
     "metadata": {},
     "output_type": "execute_result"
    }
   ],
   "source": [
    "import pandas as pd\n",
    "df = pd.read_csv('aita_clean.csv')\n",
    "df['text'] = df[\"title\"] + df[\"body\"].fillna(\"\")\n",
    "print(len(df))"
   ]
  },
  {
   "cell_type": "code",
   "execution_count": 2,
   "metadata": {},
   "outputs": [],
   "source": [
    "from sklearn.feature_selection import chi2\n",
    "from sklearn.feature_extraction.text import TfidfVectorizer\n",
    "\n",
    "tvec = TfidfVectorizer(max_features=10000,ngram_range=(1,1))\n",
    "corpus_tfidf = tvec.fit_transform(df.text)\n",
    "chi2score = chi2(corpus_tfidf, df.is_asshole)[0]"
   ]
  },
  {
   "cell_type": "code",
   "execution_count": 3,
   "metadata": {},
   "outputs": [
    {
     "name": "stdout",
     "output_type": "stream",
     "text": [
      "[('girlfriend', 9.989495597528986), ('wanting', 10.028783637027201), ('lane', 12.774934236701373), ('family', 13.119185738168017), ('my', 15.107753043592673), ('dad', 16.50492328810366), ('edit', 16.569261497891993), ('mother', 18.206993216980287), ('wife', 20.276032064143966), ('mom', 28.579384986092162)]\n"
     ]
    }
   ],
   "source": [
    "wscores = zip(tvec.get_feature_names(), chi2score)\n",
    "wchi2 = sorted(wscores, key=lambda x:x[1])\n",
    "topchi2 = wchi2[-10:]\n",
    "print(topchi2)"
   ]
  },
  {
   "cell_type": "code",
   "execution_count": 4,
   "metadata": {},
   "outputs": [],
   "source": [
    "# Cool, let's compare! Does saying mom/mother predispose you to say asshole or not?\n",
    "\n",
    "df['contains_mom'] = df['text'].str.contains(\"mom|mother\",case =False)\n",
    "df['contains_dad'] = df['text'].str.contains(\"dad|father\",case =False)\n",
    "df['contains_gf'] = df['text'].str.contains(\"wife|girlfriend|gf\",case =False)\n",
    "df['contains_bf'] = df['text'].str.contains(\"husband|boyfriend|bf\",case =False)\n",
    "\n",
    "yta = df[df['is_asshole']==1]\n",
    "nta = df[df['is_asshole']==0]\n",
    "\n"
   ]
  },
  {
   "cell_type": "code",
   "execution_count": 5,
   "metadata": {},
   "outputs": [],
   "source": [
    "# Calculate log odds for each\n",
    "import numpy as np\n",
    "\n",
    "df['contains_mom'] = df['text'].str.contains(\"mom|mother\",case =False)\n",
    "df['contains_dad'] = df['text'].str.contains(\"dad|father\",case =False)\n",
    "df['contains_gf'] = df['text'].str.contains(\"wife|girlfriend|gf\",case =False)\n",
    "df['contains_bf'] = df['text'].str.contains(\"husband|boyfriend|bf\",case =False)\n",
    "\n",
    "yta = df[df['is_asshole']==1]\n",
    "nta = df[df['is_asshole']==0]\n",
    "\n",
    "odds_mom = np.log2( np.mean(yta['contains_mom']) / np.mean(nta['contains_mom']))\n",
    "odds_dad = np.log2( np.mean(yta['contains_dad']) / np.mean(nta['contains_dad']))\n",
    "odds_gf = np.log2( np.mean(yta['contains_gf']) / np.mean(nta['contains_gf']))\n",
    "odds_bf = np.log2( np.mean(yta['contains_bf']) / np.mean(nta['contains_bf']))\n",
    "\n",
    "who = [\"Mom\",\"Dad\",\"Wife/Girlfriend\",\"Husband/Boyfriend\"]\n",
    "odds = [odds_mom, odds_dad, odds_gf,odds_bf]\n",
    "\n",
    "odds_df = pd.DataFrame(zip(who,odds), columns = [\"Who\",\"LogOdds\"])\n",
    "odds_df['direction'] = odds_df['LogOdds'] > 0\n"
   ]
  },
  {
   "cell_type": "code",
   "execution_count": 7,
   "metadata": {},
   "outputs": [
    {
     "data": {
      "text/html": [
       "\n",
       "<div id=\"altair-viz-600b812aaa2b4de68f69b8dbe64991d0\"></div>\n",
       "<script type=\"text/javascript\">\n",
       "  (function(spec, embedOpt){\n",
       "    const outputDiv = document.getElementById(\"altair-viz-600b812aaa2b4de68f69b8dbe64991d0\");\n",
       "    const paths = {\n",
       "      \"vega\": \"https://cdn.jsdelivr.net/npm//vega@5?noext\",\n",
       "      \"vega-lib\": \"https://cdn.jsdelivr.net/npm//vega-lib?noext\",\n",
       "      \"vega-lite\": \"https://cdn.jsdelivr.net/npm//vega-lite@4.0.2?noext\",\n",
       "      \"vega-embed\": \"https://cdn.jsdelivr.net/npm//vega-embed@6?noext\",\n",
       "    };\n",
       "\n",
       "    function loadScript(lib) {\n",
       "      return new Promise(function(resolve, reject) {\n",
       "        var s = document.createElement('script');\n",
       "        s.src = paths[lib];\n",
       "        s.async = true;\n",
       "        s.onload = () => resolve(paths[lib]);\n",
       "        s.onerror = () => reject(`Error loading script: ${paths[lib]}`);\n",
       "        document.getElementsByTagName(\"head\")[0].appendChild(s);\n",
       "      });\n",
       "    }\n",
       "\n",
       "    function showError(err) {\n",
       "      outputDiv.innerHTML = `<div class=\"error\" style=\"color:red;\">${err}</div>`;\n",
       "      throw err;\n",
       "    }\n",
       "\n",
       "    function displayChart(vegaEmbed) {\n",
       "      vegaEmbed(outputDiv, spec, embedOpt)\n",
       "        .catch(err => showError(`Javascript Error: ${err.message}<br>This usually means there's a typo in your chart specification. See the javascript console for the full traceback.`));\n",
       "    }\n",
       "\n",
       "    if(typeof define === \"function\" && define.amd) {\n",
       "      requirejs.config({paths});\n",
       "      require([\"vega-embed\"], displayChart, err => showError(`Error loading script: ${err.message}`));\n",
       "    } else if (typeof vegaEmbed === \"function\") {\n",
       "      displayChart(vegaEmbed);\n",
       "    } else {\n",
       "      loadScript(\"vega\")\n",
       "        .then(() => loadScript(\"vega-lite\"))\n",
       "        .then(() => loadScript(\"vega-embed\"))\n",
       "        .catch(showError)\n",
       "        .then(() => displayChart(vegaEmbed));\n",
       "    }\n",
       "  })({\"config\": {\"title\": {\"font\": \"Brandon Grotesque\"}, \"axis\": {\"labelFont\": \"Brandon Grotesque\", \"titleFont\": \"Brandon Grotesque\"}, \"header\": {\"labelFont\": \"Brandon Grotesque\", \"titleFont\": \"Brandon Grotesque\"}, \"legend\": {\"labelFont\": \"Brandon Grotesque\", \"titleFont\": \"Brandon Grotesque\"}}, \"data\": {\"name\": \"data-38a579f476b70cb76ecff637f7a6ed49\"}, \"mark\": \"bar\", \"encoding\": {\"color\": {\"type\": \"nominal\", \"field\": \"direction\", \"legend\": null}, \"x\": {\"type\": \"quantitative\", \"axis\": {\"title\": \"Log odds YOU are the asshole\"}, \"field\": \"LogOdds\"}, \"y\": {\"type\": \"nominal\", \"axis\": {\"title\": \"If you mention...\"}, \"field\": \"Who\", \"sort\": \"x\"}}, \"$schema\": \"https://vega.github.io/schema/vega-lite/v4.0.2.json\", \"datasets\": {\"data-38a579f476b70cb76ecff637f7a6ed49\": [{\"Who\": \"Mom\", \"LogOdds\": -0.35706018421816277, \"direction\": false}, {\"Who\": \"Dad\", \"LogOdds\": -0.3781154971821485, \"direction\": false}, {\"Who\": \"Wife/Girlfriend\", \"LogOdds\": 0.3457262878164433, \"direction\": true}, {\"Who\": \"Husband/Boyfriend\", \"LogOdds\": -0.1976572493983825, \"direction\": false}]}}, {\"mode\": \"vega-lite\"});\n",
       "</script>"
      ],
      "text/plain": [
       "alt.Chart(...)"
      ]
     },
     "execution_count": 7,
     "metadata": {},
     "output_type": "execute_result"
    }
   ],
   "source": [
    "import altair as alt\n",
    "\n",
    "# Specify the font - comment out if you do not have this font installed on your system\n",
    "def brandon():\n",
    "    font = \"Brandon Grotesque\"\n",
    "    \n",
    "    return {\n",
    "        \"config\" : {\n",
    "             \"title\": {'font': font},\n",
    "             \"axis\": {\n",
    "                  \"labelFont\": font,\n",
    "                  \"titleFont\": font\n",
    "             },\n",
    "             \"header\": {\n",
    "                  \"labelFont\": font,\n",
    "                  \"titleFont\": font\n",
    "             },\n",
    "             \"legend\": {\n",
    "                  \"labelFont\": font,\n",
    "                  \"titleFont\": font\n",
    "             }\n",
    "        }\n",
    "    }\n",
    "\n",
    "alt.themes.register('brandon',brandon)\n",
    "alt.themes.enable('brandon')\n",
    "\n",
    "chart = alt.Chart(odds_df).mark_bar().encode(\n",
    "    x=alt.X('LogOdds', axis=alt.Axis(title=\"Log odds YOU are the asshole\")),\n",
    "    y=alt.Y('Who',sort =\"x\",axis=alt.Axis(title=\"If you mention...\")),\n",
    "    color = alt.Color('direction',legend=None)\n",
    ")\n",
    "chart"
   ]
  },
  {
   "cell_type": "code",
   "execution_count": 19,
   "metadata": {},
   "outputs": [
    {
     "ename": "KeyboardInterrupt",
     "evalue": "",
     "output_type": "error",
     "traceback": [
      "\u001b[0;31m---------------------------------------------------------------------------\u001b[0m",
      "\u001b[0;31mKeyboardInterrupt\u001b[0m                         Traceback (most recent call last)",
      "\u001b[0;32m<ipython-input-19-bd4aaf2a11a5>\u001b[0m in \u001b[0;36m<module>\u001b[0;34m\u001b[0m\n\u001b[1;32m     11\u001b[0m     \u001b[0mdf_samp\u001b[0m\u001b[0;34m[\u001b[0m\u001b[0;34m'contains_mom'\u001b[0m\u001b[0;34m]\u001b[0m \u001b[0;34m=\u001b[0m \u001b[0mdf_samp\u001b[0m\u001b[0;34m[\u001b[0m\u001b[0;34m'text'\u001b[0m\u001b[0;34m]\u001b[0m\u001b[0;34m.\u001b[0m\u001b[0mstr\u001b[0m\u001b[0;34m.\u001b[0m\u001b[0mcontains\u001b[0m\u001b[0;34m(\u001b[0m\u001b[0;34m\"mom|mother\"\u001b[0m\u001b[0;34m,\u001b[0m\u001b[0mcase\u001b[0m \u001b[0;34m=\u001b[0m\u001b[0;32mFalse\u001b[0m\u001b[0;34m)\u001b[0m\u001b[0;34m\u001b[0m\u001b[0;34m\u001b[0m\u001b[0m\n\u001b[1;32m     12\u001b[0m     \u001b[0mdf_samp\u001b[0m\u001b[0;34m[\u001b[0m\u001b[0;34m'contains_dad'\u001b[0m\u001b[0;34m]\u001b[0m \u001b[0;34m=\u001b[0m \u001b[0mdf_samp\u001b[0m\u001b[0;34m[\u001b[0m\u001b[0;34m'text'\u001b[0m\u001b[0;34m]\u001b[0m\u001b[0;34m.\u001b[0m\u001b[0mstr\u001b[0m\u001b[0;34m.\u001b[0m\u001b[0mcontains\u001b[0m\u001b[0;34m(\u001b[0m\u001b[0;34m\"dad|father\"\u001b[0m\u001b[0;34m,\u001b[0m\u001b[0mcase\u001b[0m \u001b[0;34m=\u001b[0m\u001b[0;32mFalse\u001b[0m\u001b[0;34m)\u001b[0m\u001b[0;34m\u001b[0m\u001b[0;34m\u001b[0m\u001b[0m\n\u001b[0;32m---> 13\u001b[0;31m     \u001b[0mdf_samp\u001b[0m\u001b[0;34m[\u001b[0m\u001b[0;34m'contains_gf'\u001b[0m\u001b[0;34m]\u001b[0m \u001b[0;34m=\u001b[0m \u001b[0mdf_samp\u001b[0m\u001b[0;34m[\u001b[0m\u001b[0;34m'text'\u001b[0m\u001b[0;34m]\u001b[0m\u001b[0;34m.\u001b[0m\u001b[0mstr\u001b[0m\u001b[0;34m.\u001b[0m\u001b[0mcontains\u001b[0m\u001b[0;34m(\u001b[0m\u001b[0;34m\"wife|girlfriend|gf\"\u001b[0m\u001b[0;34m,\u001b[0m\u001b[0mcase\u001b[0m \u001b[0;34m=\u001b[0m\u001b[0;32mFalse\u001b[0m\u001b[0;34m)\u001b[0m\u001b[0;34m\u001b[0m\u001b[0;34m\u001b[0m\u001b[0m\n\u001b[0m\u001b[1;32m     14\u001b[0m     \u001b[0mdf_samp\u001b[0m\u001b[0;34m[\u001b[0m\u001b[0;34m'contains_bf'\u001b[0m\u001b[0;34m]\u001b[0m \u001b[0;34m=\u001b[0m \u001b[0mdf_samp\u001b[0m\u001b[0;34m[\u001b[0m\u001b[0;34m'text'\u001b[0m\u001b[0;34m]\u001b[0m\u001b[0;34m.\u001b[0m\u001b[0mstr\u001b[0m\u001b[0;34m.\u001b[0m\u001b[0mcontains\u001b[0m\u001b[0;34m(\u001b[0m\u001b[0;34m\"husband|boyfriend|bf\"\u001b[0m\u001b[0;34m,\u001b[0m\u001b[0mcase\u001b[0m \u001b[0;34m=\u001b[0m\u001b[0;32mFalse\u001b[0m\u001b[0;34m)\u001b[0m\u001b[0;34m\u001b[0m\u001b[0;34m\u001b[0m\u001b[0m\n\u001b[1;32m     15\u001b[0m \u001b[0;34m\u001b[0m\u001b[0m\n",
      "\u001b[0;32m~/.pyenv/versions/3.7.6/envs/myenv/lib/python3.7/site-packages/pandas/core/strings.py\u001b[0m in \u001b[0;36mwrapper\u001b[0;34m(self, *args, **kwargs)\u001b[0m\n\u001b[1;32m   1841\u001b[0m                 )\n\u001b[1;32m   1842\u001b[0m                 \u001b[0;32mraise\u001b[0m \u001b[0mTypeError\u001b[0m\u001b[0;34m(\u001b[0m\u001b[0mmsg\u001b[0m\u001b[0;34m)\u001b[0m\u001b[0;34m\u001b[0m\u001b[0;34m\u001b[0m\u001b[0m\n\u001b[0;32m-> 1843\u001b[0;31m             \u001b[0;32mreturn\u001b[0m \u001b[0mfunc\u001b[0m\u001b[0;34m(\u001b[0m\u001b[0mself\u001b[0m\u001b[0;34m,\u001b[0m \u001b[0;34m*\u001b[0m\u001b[0margs\u001b[0m\u001b[0;34m,\u001b[0m \u001b[0;34m**\u001b[0m\u001b[0mkwargs\u001b[0m\u001b[0;34m)\u001b[0m\u001b[0;34m\u001b[0m\u001b[0;34m\u001b[0m\u001b[0m\n\u001b[0m\u001b[1;32m   1844\u001b[0m \u001b[0;34m\u001b[0m\u001b[0m\n\u001b[1;32m   1845\u001b[0m         \u001b[0mwrapper\u001b[0m\u001b[0;34m.\u001b[0m\u001b[0m__name__\u001b[0m \u001b[0;34m=\u001b[0m \u001b[0mfunc_name\u001b[0m\u001b[0;34m\u001b[0m\u001b[0;34m\u001b[0m\u001b[0m\n",
      "\u001b[0;32m~/.pyenv/versions/3.7.6/envs/myenv/lib/python3.7/site-packages/pandas/core/strings.py\u001b[0m in \u001b[0;36mcontains\u001b[0;34m(self, pat, case, flags, na, regex)\u001b[0m\n\u001b[1;32m   2700\u001b[0m     \u001b[0;32mdef\u001b[0m \u001b[0mcontains\u001b[0m\u001b[0;34m(\u001b[0m\u001b[0mself\u001b[0m\u001b[0;34m,\u001b[0m \u001b[0mpat\u001b[0m\u001b[0;34m,\u001b[0m \u001b[0mcase\u001b[0m\u001b[0;34m=\u001b[0m\u001b[0;32mTrue\u001b[0m\u001b[0;34m,\u001b[0m \u001b[0mflags\u001b[0m\u001b[0;34m=\u001b[0m\u001b[0;36m0\u001b[0m\u001b[0;34m,\u001b[0m \u001b[0mna\u001b[0m\u001b[0;34m=\u001b[0m\u001b[0mnp\u001b[0m\u001b[0;34m.\u001b[0m\u001b[0mnan\u001b[0m\u001b[0;34m,\u001b[0m \u001b[0mregex\u001b[0m\u001b[0;34m=\u001b[0m\u001b[0;32mTrue\u001b[0m\u001b[0;34m)\u001b[0m\u001b[0;34m:\u001b[0m\u001b[0;34m\u001b[0m\u001b[0;34m\u001b[0m\u001b[0m\n\u001b[1;32m   2701\u001b[0m         result = str_contains(\n\u001b[0;32m-> 2702\u001b[0;31m             \u001b[0mself\u001b[0m\u001b[0;34m.\u001b[0m\u001b[0m_parent\u001b[0m\u001b[0;34m,\u001b[0m \u001b[0mpat\u001b[0m\u001b[0;34m,\u001b[0m \u001b[0mcase\u001b[0m\u001b[0;34m=\u001b[0m\u001b[0mcase\u001b[0m\u001b[0;34m,\u001b[0m \u001b[0mflags\u001b[0m\u001b[0;34m=\u001b[0m\u001b[0mflags\u001b[0m\u001b[0;34m,\u001b[0m \u001b[0mna\u001b[0m\u001b[0;34m=\u001b[0m\u001b[0mna\u001b[0m\u001b[0;34m,\u001b[0m \u001b[0mregex\u001b[0m\u001b[0;34m=\u001b[0m\u001b[0mregex\u001b[0m\u001b[0;34m\u001b[0m\u001b[0;34m\u001b[0m\u001b[0m\n\u001b[0m\u001b[1;32m   2703\u001b[0m         )\n\u001b[1;32m   2704\u001b[0m         \u001b[0;32mreturn\u001b[0m \u001b[0mself\u001b[0m\u001b[0;34m.\u001b[0m\u001b[0m_wrap_result\u001b[0m\u001b[0;34m(\u001b[0m\u001b[0mresult\u001b[0m\u001b[0;34m,\u001b[0m \u001b[0mfill_value\u001b[0m\u001b[0;34m=\u001b[0m\u001b[0mna\u001b[0m\u001b[0;34m)\u001b[0m\u001b[0;34m\u001b[0m\u001b[0;34m\u001b[0m\u001b[0m\n",
      "\u001b[0;32m~/.pyenv/versions/3.7.6/envs/myenv/lib/python3.7/site-packages/pandas/core/strings.py\u001b[0m in \u001b[0;36mstr_contains\u001b[0;34m(arr, pat, case, flags, na, regex)\u001b[0m\n\u001b[1;32m    361\u001b[0m             \u001b[0muppered\u001b[0m \u001b[0;34m=\u001b[0m \u001b[0m_na_map\u001b[0m\u001b[0;34m(\u001b[0m\u001b[0;32mlambda\u001b[0m \u001b[0mx\u001b[0m\u001b[0;34m:\u001b[0m \u001b[0mx\u001b[0m\u001b[0;34m.\u001b[0m\u001b[0mupper\u001b[0m\u001b[0;34m(\u001b[0m\u001b[0;34m)\u001b[0m\u001b[0;34m,\u001b[0m \u001b[0marr\u001b[0m\u001b[0;34m)\u001b[0m\u001b[0;34m\u001b[0m\u001b[0;34m\u001b[0m\u001b[0m\n\u001b[1;32m    362\u001b[0m             \u001b[0;32mreturn\u001b[0m \u001b[0m_na_map\u001b[0m\u001b[0;34m(\u001b[0m\u001b[0mf\u001b[0m\u001b[0;34m,\u001b[0m \u001b[0muppered\u001b[0m\u001b[0;34m,\u001b[0m \u001b[0mna\u001b[0m\u001b[0;34m,\u001b[0m \u001b[0mdtype\u001b[0m\u001b[0;34m=\u001b[0m\u001b[0mbool\u001b[0m\u001b[0;34m)\u001b[0m\u001b[0;34m\u001b[0m\u001b[0;34m\u001b[0m\u001b[0m\n\u001b[0;32m--> 363\u001b[0;31m     \u001b[0;32mreturn\u001b[0m \u001b[0m_na_map\u001b[0m\u001b[0;34m(\u001b[0m\u001b[0mf\u001b[0m\u001b[0;34m,\u001b[0m \u001b[0marr\u001b[0m\u001b[0;34m,\u001b[0m \u001b[0mna\u001b[0m\u001b[0;34m,\u001b[0m \u001b[0mdtype\u001b[0m\u001b[0;34m=\u001b[0m\u001b[0mbool\u001b[0m\u001b[0;34m)\u001b[0m\u001b[0;34m\u001b[0m\u001b[0;34m\u001b[0m\u001b[0m\n\u001b[0m\u001b[1;32m    364\u001b[0m \u001b[0;34m\u001b[0m\u001b[0m\n\u001b[1;32m    365\u001b[0m \u001b[0;34m\u001b[0m\u001b[0m\n",
      "\u001b[0;32m~/.pyenv/versions/3.7.6/envs/myenv/lib/python3.7/site-packages/pandas/core/strings.py\u001b[0m in \u001b[0;36m_na_map\u001b[0;34m(f, arr, na_result, dtype)\u001b[0m\n\u001b[1;32m    103\u001b[0m \u001b[0;32mdef\u001b[0m \u001b[0m_na_map\u001b[0m\u001b[0;34m(\u001b[0m\u001b[0mf\u001b[0m\u001b[0;34m,\u001b[0m \u001b[0marr\u001b[0m\u001b[0;34m,\u001b[0m \u001b[0mna_result\u001b[0m\u001b[0;34m=\u001b[0m\u001b[0mnp\u001b[0m\u001b[0;34m.\u001b[0m\u001b[0mnan\u001b[0m\u001b[0;34m,\u001b[0m \u001b[0mdtype\u001b[0m\u001b[0;34m=\u001b[0m\u001b[0mobject\u001b[0m\u001b[0;34m)\u001b[0m\u001b[0;34m:\u001b[0m\u001b[0;34m\u001b[0m\u001b[0;34m\u001b[0m\u001b[0m\n\u001b[1;32m    104\u001b[0m     \u001b[0;31m# should really _check_ for NA\u001b[0m\u001b[0;34m\u001b[0m\u001b[0;34m\u001b[0m\u001b[0;34m\u001b[0m\u001b[0m\n\u001b[0;32m--> 105\u001b[0;31m     \u001b[0;32mreturn\u001b[0m \u001b[0m_map\u001b[0m\u001b[0;34m(\u001b[0m\u001b[0mf\u001b[0m\u001b[0;34m,\u001b[0m \u001b[0marr\u001b[0m\u001b[0;34m,\u001b[0m \u001b[0mna_mask\u001b[0m\u001b[0;34m=\u001b[0m\u001b[0;32mTrue\u001b[0m\u001b[0;34m,\u001b[0m \u001b[0mna_value\u001b[0m\u001b[0;34m=\u001b[0m\u001b[0mna_result\u001b[0m\u001b[0;34m,\u001b[0m \u001b[0mdtype\u001b[0m\u001b[0;34m=\u001b[0m\u001b[0mdtype\u001b[0m\u001b[0;34m)\u001b[0m\u001b[0;34m\u001b[0m\u001b[0;34m\u001b[0m\u001b[0m\n\u001b[0m\u001b[1;32m    106\u001b[0m \u001b[0;34m\u001b[0m\u001b[0m\n\u001b[1;32m    107\u001b[0m \u001b[0;34m\u001b[0m\u001b[0m\n",
      "\u001b[0;32m~/.pyenv/versions/3.7.6/envs/myenv/lib/python3.7/site-packages/pandas/core/strings.py\u001b[0m in \u001b[0;36m_map\u001b[0;34m(f, arr, na_mask, na_value, dtype)\u001b[0m\n\u001b[1;32m    118\u001b[0m         \u001b[0;32mtry\u001b[0m\u001b[0;34m:\u001b[0m\u001b[0;34m\u001b[0m\u001b[0;34m\u001b[0m\u001b[0m\n\u001b[1;32m    119\u001b[0m             \u001b[0mconvert\u001b[0m \u001b[0;34m=\u001b[0m \u001b[0;32mnot\u001b[0m \u001b[0mall\u001b[0m\u001b[0;34m(\u001b[0m\u001b[0mmask\u001b[0m\u001b[0;34m)\u001b[0m\u001b[0;34m\u001b[0m\u001b[0;34m\u001b[0m\u001b[0m\n\u001b[0;32m--> 120\u001b[0;31m             \u001b[0mresult\u001b[0m \u001b[0;34m=\u001b[0m \u001b[0mlib\u001b[0m\u001b[0;34m.\u001b[0m\u001b[0mmap_infer_mask\u001b[0m\u001b[0;34m(\u001b[0m\u001b[0marr\u001b[0m\u001b[0;34m,\u001b[0m \u001b[0mf\u001b[0m\u001b[0;34m,\u001b[0m \u001b[0mmask\u001b[0m\u001b[0;34m.\u001b[0m\u001b[0mview\u001b[0m\u001b[0;34m(\u001b[0m\u001b[0mnp\u001b[0m\u001b[0;34m.\u001b[0m\u001b[0muint8\u001b[0m\u001b[0;34m)\u001b[0m\u001b[0;34m,\u001b[0m \u001b[0mconvert\u001b[0m\u001b[0;34m)\u001b[0m\u001b[0;34m\u001b[0m\u001b[0;34m\u001b[0m\u001b[0m\n\u001b[0m\u001b[1;32m    121\u001b[0m         \u001b[0;32mexcept\u001b[0m \u001b[0;34m(\u001b[0m\u001b[0mTypeError\u001b[0m\u001b[0;34m,\u001b[0m \u001b[0mAttributeError\u001b[0m\u001b[0;34m)\u001b[0m \u001b[0;32mas\u001b[0m \u001b[0me\u001b[0m\u001b[0;34m:\u001b[0m\u001b[0;34m\u001b[0m\u001b[0;34m\u001b[0m\u001b[0m\n\u001b[1;32m    122\u001b[0m             \u001b[0;31m# Reraise the exception if callable `f` got wrong number of args.\u001b[0m\u001b[0;34m\u001b[0m\u001b[0;34m\u001b[0m\u001b[0;34m\u001b[0m\u001b[0m\n",
      "\u001b[0;32mpandas/_libs/lib.pyx\u001b[0m in \u001b[0;36mpandas._libs.lib.map_infer_mask\u001b[0;34m()\u001b[0m\n",
      "\u001b[0;32m~/.pyenv/versions/3.7.6/envs/myenv/lib/python3.7/site-packages/pandas/core/strings.py\u001b[0m in \u001b[0;36m<lambda>\u001b[0;34m(x)\u001b[0m\n\u001b[1;32m    352\u001b[0m             )\n\u001b[1;32m    353\u001b[0m \u001b[0;34m\u001b[0m\u001b[0m\n\u001b[0;32m--> 354\u001b[0;31m         \u001b[0mf\u001b[0m \u001b[0;34m=\u001b[0m \u001b[0;32mlambda\u001b[0m \u001b[0mx\u001b[0m\u001b[0;34m:\u001b[0m \u001b[0mbool\u001b[0m\u001b[0;34m(\u001b[0m\u001b[0mregex\u001b[0m\u001b[0;34m.\u001b[0m\u001b[0msearch\u001b[0m\u001b[0;34m(\u001b[0m\u001b[0mx\u001b[0m\u001b[0;34m)\u001b[0m\u001b[0;34m)\u001b[0m\u001b[0;34m\u001b[0m\u001b[0;34m\u001b[0m\u001b[0m\n\u001b[0m\u001b[1;32m    355\u001b[0m     \u001b[0;32melse\u001b[0m\u001b[0;34m:\u001b[0m\u001b[0;34m\u001b[0m\u001b[0;34m\u001b[0m\u001b[0m\n\u001b[1;32m    356\u001b[0m         \u001b[0;32mif\u001b[0m \u001b[0mcase\u001b[0m\u001b[0;34m:\u001b[0m\u001b[0;34m\u001b[0m\u001b[0;34m\u001b[0m\u001b[0m\n",
      "\u001b[0;31mKeyboardInterrupt\u001b[0m: "
     ]
    }
   ],
   "source": [
    "# Actually, let's bootstrap so we can be at all confident these odds aren't really zero\n",
    "#mom = []\n",
    "#dad = []\n",
    "#gf = []\n",
    "#bf = []\n",
    "#\n",
    "#boots = 100\n",
    "#\n",
    "#for b in range(0,boots):\n",
    "#    df_samp = df.sample(len(df), replace=True)\n",
    "#    df_samp['contains_mom'] = df_samp['text'].str.contains(\"mom|mother\",case =False)\n",
    "#    df_samp['contains_dad'] = df_samp['text'].str.contains(\"dad|father\",case =False)\n",
    "#    df_samp['contains_gf'] = df_samp['text'].str.contains(\"wife|girlfriend|gf\",case =False)\n",
    "#    df_samp['contains_bf'] = df_samp['text'].str.contains(\"husband|boyfriend|bf\",case =False)\n",
    "#\n",
    "#    yta = df_samp[df_samp['is_asshole']==1]\n",
    "#    nta = df_samp[df_samp['is_asshole']==0]\n",
    "#\n",
    "#    odds_mom = np.log2( np.mean(yta['contains_mom']) / np.mean(nta['contains_mom']))\n",
    "#    odds_dad = np.log2( np.mean(yta['contains_dad']) / np.mean(nta['contains_dad']))\n",
    "#    odds_gf = np.log2( np.mean(yta['contains_gf']) / np.mean(nta['contains_gf']))\n",
    "#    odds_bf = np.log2( np.mean(yta['contains_bf']) / np.mean(nta['contains_bf']))\n",
    "#\n",
    "#\n",
    "#    mom.append(odds_mom)\n",
    "#    dad.append(odds_dad)\n",
    "#    gf.append(odds_gf)\n",
    "#    bf.append(odds_bf)\n",
    "\n"
   ]
  },
  {
   "cell_type": "code",
   "execution_count": 37,
   "metadata": {},
   "outputs": [
    {
     "data": {
      "text/html": [
       "\n",
       "<div id=\"altair-viz-af7f0b908b864b2f8f5f70df6690df64\"></div>\n",
       "<script type=\"text/javascript\">\n",
       "  (function(spec, embedOpt){\n",
       "    const outputDiv = document.getElementById(\"altair-viz-af7f0b908b864b2f8f5f70df6690df64\");\n",
       "    const paths = {\n",
       "      \"vega\": \"https://cdn.jsdelivr.net/npm//vega@5?noext\",\n",
       "      \"vega-lib\": \"https://cdn.jsdelivr.net/npm//vega-lib?noext\",\n",
       "      \"vega-lite\": \"https://cdn.jsdelivr.net/npm//vega-lite@4.0.2?noext\",\n",
       "      \"vega-embed\": \"https://cdn.jsdelivr.net/npm//vega-embed@6?noext\",\n",
       "    };\n",
       "\n",
       "    function loadScript(lib) {\n",
       "      return new Promise(function(resolve, reject) {\n",
       "        var s = document.createElement('script');\n",
       "        s.src = paths[lib];\n",
       "        s.async = true;\n",
       "        s.onload = () => resolve(paths[lib]);\n",
       "        s.onerror = () => reject(`Error loading script: ${paths[lib]}`);\n",
       "        document.getElementsByTagName(\"head\")[0].appendChild(s);\n",
       "      });\n",
       "    }\n",
       "\n",
       "    function showError(err) {\n",
       "      outputDiv.innerHTML = `<div class=\"error\" style=\"color:red;\">${err}</div>`;\n",
       "      throw err;\n",
       "    }\n",
       "\n",
       "    function displayChart(vegaEmbed) {\n",
       "      vegaEmbed(outputDiv, spec, embedOpt)\n",
       "        .catch(err => showError(`Javascript Error: ${err.message}<br>This usually means there's a typo in your chart specification. See the javascript console for the full traceback.`));\n",
       "    }\n",
       "\n",
       "    if(typeof define === \"function\" && define.amd) {\n",
       "      requirejs.config({paths});\n",
       "      require([\"vega-embed\"], displayChart, err => showError(`Error loading script: ${err.message}`));\n",
       "    } else if (typeof vegaEmbed === \"function\") {\n",
       "      displayChart(vegaEmbed);\n",
       "    } else {\n",
       "      loadScript(\"vega\")\n",
       "        .then(() => loadScript(\"vega-lite\"))\n",
       "        .then(() => loadScript(\"vega-embed\"))\n",
       "        .catch(showError)\n",
       "        .then(() => displayChart(vegaEmbed));\n",
       "    }\n",
       "  })({\"config\": {\"view\": {\"continuousWidth\": 400, \"continuousHeight\": 300}}, \"layer\": [{\"mark\": \"bar\", \"encoding\": {\"x\": {\"type\": \"nominal\", \"field\": \"Who\"}, \"y\": {\"type\": \"quantitative\", \"aggregate\": \"average\", \"field\": \"LogOdds\"}}}, {\"mark\": {\"type\": \"errorbar\", \"extent\": \"ci\"}, \"encoding\": {\"x\": {\"type\": \"nominal\", \"field\": \"Who\"}, \"y\": {\"type\": \"quantitative\", \"aggregate\": \"average\", \"field\": \"LogOdds\"}}}], \"data\": {\"name\": \"data-e842a62fb72f025ad26b08f03e7567bd\"}, \"$schema\": \"https://vega.github.io/schema/vega-lite/v4.0.2.json\", \"datasets\": {\"data-e842a62fb72f025ad26b08f03e7567bd\": [{\"Who\": \"Mom\", \"LogOdds\": -0.3436485454927353}, {\"Who\": \"Mom\", \"LogOdds\": -0.35225680937622544}, {\"Who\": \"Mom\", \"LogOdds\": -0.3956814438343911}, {\"Who\": \"Mom\", \"LogOdds\": -0.3413719864640006}, {\"Who\": \"Mom\", \"LogOdds\": -0.3709978257575228}, {\"Who\": \"Mom\", \"LogOdds\": -0.32307748882829684}, {\"Who\": \"Mom\", \"LogOdds\": -0.34983546239389096}, {\"Who\": \"Mom\", \"LogOdds\": -0.3573624029365233}, {\"Who\": \"Mom\", \"LogOdds\": -0.3815827107498253}, {\"Who\": \"Mom\", \"LogOdds\": -0.3316622419952843}, {\"Who\": \"Mom\", \"LogOdds\": -0.32926496778618225}, {\"Who\": \"Mom\", \"LogOdds\": -0.38495534708737733}, {\"Who\": \"Mom\", \"LogOdds\": -0.3577252202265244}, {\"Who\": \"Mom\", \"LogOdds\": -0.3742619990191977}, {\"Who\": \"Mom\", \"LogOdds\": -0.3232341758590931}, {\"Who\": \"Mom\", \"LogOdds\": -0.3434683348475104}, {\"Who\": \"Mom\", \"LogOdds\": -0.3347703225143962}, {\"Who\": \"Mom\", \"LogOdds\": -0.343100729888038}, {\"Who\": \"Mom\", \"LogOdds\": -0.33303453216794254}, {\"Who\": \"Mom\", \"LogOdds\": -0.3914233407220931}, {\"Who\": \"Mom\", \"LogOdds\": -0.37713067932019306}, {\"Who\": \"Mom\", \"LogOdds\": -0.3331493948871821}, {\"Who\": \"Mom\", \"LogOdds\": -0.3727812893217611}, {\"Who\": \"Mom\", \"LogOdds\": -0.3468423198448156}, {\"Who\": \"Mom\", \"LogOdds\": -0.38281525392304677}, {\"Who\": \"Mom\", \"LogOdds\": -0.3819570219547847}, {\"Who\": \"Mom\", \"LogOdds\": -0.3566962896747573}, {\"Who\": \"Mom\", \"LogOdds\": -0.3729657669024278}, {\"Who\": \"Mom\", \"LogOdds\": -0.37470189698774037}, {\"Who\": \"Mom\", \"LogOdds\": -0.36140862107864785}, {\"Who\": \"Mom\", \"LogOdds\": -0.37443899549366344}, {\"Who\": \"Mom\", \"LogOdds\": -0.36940106341978757}, {\"Who\": \"Mom\", \"LogOdds\": -0.3436198647399468}, {\"Who\": \"Mom\", \"LogOdds\": -0.37141691015410505}, {\"Who\": \"Mom\", \"LogOdds\": -0.3804030747580598}, {\"Who\": \"Mom\", \"LogOdds\": -0.3422908129561422}, {\"Who\": \"Mom\", \"LogOdds\": -0.36461652523890414}, {\"Who\": \"Mom\", \"LogOdds\": -0.39061023272549905}, {\"Who\": \"Mom\", \"LogOdds\": -0.38236508215878395}, {\"Who\": \"Mom\", \"LogOdds\": -0.37946433355200493}, {\"Who\": \"Mom\", \"LogOdds\": -0.3780562462065544}, {\"Who\": \"Mom\", \"LogOdds\": -0.3339452619633066}, {\"Who\": \"Mom\", \"LogOdds\": -0.3667143518727936}, {\"Who\": \"Mom\", \"LogOdds\": -0.3418323303956624}, {\"Who\": \"Mom\", \"LogOdds\": -0.35716126013770855}, {\"Who\": \"Mom\", \"LogOdds\": -0.3556680297708358}, {\"Who\": \"Mom\", \"LogOdds\": -0.3473608982723493}, {\"Who\": \"Mom\", \"LogOdds\": -0.3277592546464587}, {\"Who\": \"Mom\", \"LogOdds\": -0.3092033281585307}, {\"Who\": \"Mom\", \"LogOdds\": -0.32174462888461636}, {\"Who\": \"Mom\", \"LogOdds\": -0.35396745356997844}, {\"Who\": \"Mom\", \"LogOdds\": -0.334695863141129}, {\"Who\": \"Mom\", \"LogOdds\": -0.3681741331373121}, {\"Who\": \"Mom\", \"LogOdds\": -0.31328170733853056}, {\"Who\": \"Mom\", \"LogOdds\": -0.36383173168172395}, {\"Who\": \"Mom\", \"LogOdds\": -0.3493605703834862}, {\"Who\": \"Dad\", \"LogOdds\": -0.3314093911980409}, {\"Who\": \"Dad\", \"LogOdds\": -0.3391207233618573}, {\"Who\": \"Dad\", \"LogOdds\": -0.4117772978108222}, {\"Who\": \"Dad\", \"LogOdds\": -0.39853692208616837}, {\"Who\": \"Dad\", \"LogOdds\": -0.3777533520267469}, {\"Who\": \"Dad\", \"LogOdds\": -0.3979448597215692}, {\"Who\": \"Dad\", \"LogOdds\": -0.3887331614091251}, {\"Who\": \"Dad\", \"LogOdds\": -0.3791469376977275}, {\"Who\": \"Dad\", \"LogOdds\": -0.3820761526340407}, {\"Who\": \"Dad\", \"LogOdds\": -0.35231752455527715}, {\"Who\": \"Dad\", \"LogOdds\": -0.32653101116619754}, {\"Who\": \"Dad\", \"LogOdds\": -0.391384574289954}, {\"Who\": \"Dad\", \"LogOdds\": -0.35304721306396764}, {\"Who\": \"Dad\", \"LogOdds\": -0.3500064776324474}, {\"Who\": \"Dad\", \"LogOdds\": -0.3102661942252195}, {\"Who\": \"Dad\", \"LogOdds\": -0.3464262540662433}, {\"Who\": \"Dad\", \"LogOdds\": -0.3541022196632017}, {\"Who\": \"Dad\", \"LogOdds\": -0.32947973475459597}, {\"Who\": \"Dad\", \"LogOdds\": -0.37197829503075835}, {\"Who\": \"Dad\", \"LogOdds\": -0.3548833075154495}, {\"Who\": \"Dad\", \"LogOdds\": -0.43418702947171894}, {\"Who\": \"Dad\", \"LogOdds\": -0.3880085069589477}, {\"Who\": \"Dad\", \"LogOdds\": -0.3696244501584766}, {\"Who\": \"Dad\", \"LogOdds\": -0.3880686596741208}, {\"Who\": \"Dad\", \"LogOdds\": -0.3286878378591452}, {\"Who\": \"Dad\", \"LogOdds\": -0.3822718240504781}, {\"Who\": \"Dad\", \"LogOdds\": -0.38026447783411366}, {\"Who\": \"Dad\", \"LogOdds\": -0.39427215737242005}, {\"Who\": \"Dad\", \"LogOdds\": -0.37231287957596954}, {\"Who\": \"Dad\", \"LogOdds\": -0.3931518627336928}, {\"Who\": \"Dad\", \"LogOdds\": -0.36613972800614614}, {\"Who\": \"Dad\", \"LogOdds\": -0.3999656026725894}, {\"Who\": \"Dad\", \"LogOdds\": -0.3968011308443173}, {\"Who\": \"Dad\", \"LogOdds\": -0.3619188514095514}, {\"Who\": \"Dad\", \"LogOdds\": -0.38823595551824036}, {\"Who\": \"Dad\", \"LogOdds\": -0.4041051290552937}, {\"Who\": \"Dad\", \"LogOdds\": -0.34942081359226723}, {\"Who\": \"Dad\", \"LogOdds\": -0.4331520100605794}, {\"Who\": \"Dad\", \"LogOdds\": -0.3908164282667024}, {\"Who\": \"Dad\", \"LogOdds\": -0.3922818739123239}, {\"Who\": \"Dad\", \"LogOdds\": -0.3856325369498591}, {\"Who\": \"Dad\", \"LogOdds\": -0.34067881583550713}, {\"Who\": \"Dad\", \"LogOdds\": -0.34235237454030826}, {\"Who\": \"Dad\", \"LogOdds\": -0.37850325770828525}, {\"Who\": \"Dad\", \"LogOdds\": -0.3576716487711756}, {\"Who\": \"Dad\", \"LogOdds\": -0.37219859929298515}, {\"Who\": \"Dad\", \"LogOdds\": -0.37928198943285313}, {\"Who\": \"Dad\", \"LogOdds\": -0.3642638764650673}, {\"Who\": \"Dad\", \"LogOdds\": -0.3967697398636841}, {\"Who\": \"Dad\", \"LogOdds\": -0.33603039199903717}, {\"Who\": \"Dad\", \"LogOdds\": -0.3583792881206813}, {\"Who\": \"Dad\", \"LogOdds\": -0.30674029740019176}, {\"Who\": \"Dad\", \"LogOdds\": -0.37744213453293335}, {\"Who\": \"Dad\", \"LogOdds\": -0.36528634380348385}, {\"Who\": \"Dad\", \"LogOdds\": -0.4012378474739519}, {\"Who\": \"Dad\", \"LogOdds\": -0.3762770893758033}, {\"Who\": \"GF\", \"LogOdds\": 0.37282543090544634}, {\"Who\": \"GF\", \"LogOdds\": 0.3718116586059114}, {\"Who\": \"GF\", \"LogOdds\": 0.3498248287906962}, {\"Who\": \"GF\", \"LogOdds\": 0.37495262774589494}, {\"Who\": \"GF\", \"LogOdds\": 0.31578716052503747}, {\"Who\": \"GF\", \"LogOdds\": 0.34468453792680376}, {\"Who\": \"GF\", \"LogOdds\": 0.35565209313122254}, {\"Who\": \"GF\", \"LogOdds\": 0.38834398443671353}, {\"Who\": \"GF\", \"LogOdds\": 0.3685855575157454}, {\"Who\": \"GF\", \"LogOdds\": 0.3568766819431048}, {\"Who\": \"GF\", \"LogOdds\": 0.32140220241955186}, {\"Who\": \"GF\", \"LogOdds\": 0.3699177024295211}, {\"Who\": \"GF\", \"LogOdds\": 0.3110238618159163}, {\"Who\": \"GF\", \"LogOdds\": 0.37096187736837133}, {\"Who\": \"GF\", \"LogOdds\": 0.35602464420398694}, {\"Who\": \"GF\", \"LogOdds\": 0.3071202893965592}, {\"Who\": \"GF\", \"LogOdds\": 0.3361750097678713}, {\"Who\": \"GF\", \"LogOdds\": 0.39353992197164767}, {\"Who\": \"GF\", \"LogOdds\": 0.34710942324724714}, {\"Who\": \"GF\", \"LogOdds\": 0.3297823697707805}, {\"Who\": \"GF\", \"LogOdds\": 0.3130254768455452}, {\"Who\": \"GF\", \"LogOdds\": 0.3367718325331618}, {\"Who\": \"GF\", \"LogOdds\": 0.3476107950457827}, {\"Who\": \"GF\", \"LogOdds\": 0.3789970500256138}, {\"Who\": \"GF\", \"LogOdds\": 0.3296412593293044}, {\"Who\": \"GF\", \"LogOdds\": 0.3142912127670114}, {\"Who\": \"GF\", \"LogOdds\": 0.3538785430678801}, {\"Who\": \"GF\", \"LogOdds\": 0.37109605158899484}, {\"Who\": \"GF\", \"LogOdds\": 0.3476908277829544}, {\"Who\": \"GF\", \"LogOdds\": 0.37545182238954095}, {\"Who\": \"GF\", \"LogOdds\": 0.3347621246539492}, {\"Who\": \"GF\", \"LogOdds\": 0.36723602074778267}, {\"Who\": \"GF\", \"LogOdds\": 0.3046271477928078}, {\"Who\": \"GF\", \"LogOdds\": 0.32425358035388485}, {\"Who\": \"GF\", \"LogOdds\": 0.3557366322501901}, {\"Who\": \"GF\", \"LogOdds\": 0.3357096136836266}, {\"Who\": \"GF\", \"LogOdds\": 0.3362095008417005}, {\"Who\": \"GF\", \"LogOdds\": 0.32216551942660154}, {\"Who\": \"GF\", \"LogOdds\": 0.32405383908045854}, {\"Who\": \"GF\", \"LogOdds\": 0.333606964664558}, {\"Who\": \"GF\", \"LogOdds\": 0.3556190730304903}, {\"Who\": \"GF\", \"LogOdds\": 0.32945131841023667}, {\"Who\": \"GF\", \"LogOdds\": 0.3615005771383953}, {\"Who\": \"GF\", \"LogOdds\": 0.3506951017396388}, {\"Who\": \"GF\", \"LogOdds\": 0.38944699091940765}, {\"Who\": \"GF\", \"LogOdds\": 0.3343626106497128}, {\"Who\": \"GF\", \"LogOdds\": 0.35632062899242073}, {\"Who\": \"GF\", \"LogOdds\": 0.30371550550108567}, {\"Who\": \"GF\", \"LogOdds\": 0.3469983365688292}, {\"Who\": \"GF\", \"LogOdds\": 0.36755712741098406}, {\"Who\": \"GF\", \"LogOdds\": 0.33244437320554143}, {\"Who\": \"GF\", \"LogOdds\": 0.33489895663331687}, {\"Who\": \"GF\", \"LogOdds\": 0.30902695351548953}, {\"Who\": \"GF\", \"LogOdds\": 0.35314744971326373}, {\"Who\": \"GF\", \"LogOdds\": 0.34357295942162014}, {\"Who\": \"GF\", \"LogOdds\": 0.34117041442356166}, {\"Who\": \"BF\", \"LogOdds\": -0.21633504868742193}, {\"Who\": \"BF\", \"LogOdds\": -0.15110053821030406}, {\"Who\": \"BF\", \"LogOdds\": -0.21382526017613104}, {\"Who\": \"BF\", \"LogOdds\": -0.193741098656125}, {\"Who\": \"BF\", \"LogOdds\": -0.1436100194114856}, {\"Who\": \"BF\", \"LogOdds\": -0.17215848499447525}, {\"Who\": \"BF\", \"LogOdds\": -0.241183754173144}, {\"Who\": \"BF\", \"LogOdds\": -0.18756226809497276}, {\"Who\": \"BF\", \"LogOdds\": -0.1618711412534979}, {\"Who\": \"BF\", \"LogOdds\": -0.2072256741274094}, {\"Who\": \"BF\", \"LogOdds\": -0.21428757287033984}, {\"Who\": \"BF\", \"LogOdds\": -0.25982151438036244}, {\"Who\": \"BF\", \"LogOdds\": -0.17590248240373918}, {\"Who\": \"BF\", \"LogOdds\": -0.19842979490205367}, {\"Who\": \"BF\", \"LogOdds\": -0.21964784639868137}, {\"Who\": \"BF\", \"LogOdds\": -0.2528372084223168}, {\"Who\": \"BF\", \"LogOdds\": -0.2480180039169501}, {\"Who\": \"BF\", \"LogOdds\": -0.2356197881437051}, {\"Who\": \"BF\", \"LogOdds\": -0.15502434871382498}, {\"Who\": \"BF\", \"LogOdds\": -0.19838757658559494}, {\"Who\": \"BF\", \"LogOdds\": -0.18086052306008565}, {\"Who\": \"BF\", \"LogOdds\": -0.18544944939097313}, {\"Who\": \"BF\", \"LogOdds\": -0.19610671920015393}, {\"Who\": \"BF\", \"LogOdds\": -0.20129386278202174}, {\"Who\": \"BF\", \"LogOdds\": -0.21814146411589497}, {\"Who\": \"BF\", \"LogOdds\": -0.1637803194569122}, {\"Who\": \"BF\", \"LogOdds\": -0.2111013572272169}, {\"Who\": \"BF\", \"LogOdds\": -0.21939106093181304}, {\"Who\": \"BF\", \"LogOdds\": -0.18149027135550969}, {\"Who\": \"BF\", \"LogOdds\": -0.20138013372477367}, {\"Who\": \"BF\", \"LogOdds\": -0.15099068866165072}, {\"Who\": \"BF\", \"LogOdds\": -0.18046075366417003}, {\"Who\": \"BF\", \"LogOdds\": -0.2312662060947656}, {\"Who\": \"BF\", \"LogOdds\": -0.24384032834265604}, {\"Who\": \"BF\", \"LogOdds\": -0.22520740759619678}, {\"Who\": \"BF\", \"LogOdds\": -0.19351730678051113}, {\"Who\": \"BF\", \"LogOdds\": -0.1403235206395072}, {\"Who\": \"BF\", \"LogOdds\": -0.1880954262994141}, {\"Who\": \"BF\", \"LogOdds\": -0.2220078121007294}, {\"Who\": \"BF\", \"LogOdds\": -0.20670876787743012}, {\"Who\": \"BF\", \"LogOdds\": -0.22959251455273494}, {\"Who\": \"BF\", \"LogOdds\": -0.15932878276297632}, {\"Who\": \"BF\", \"LogOdds\": -0.1910871708016287}, {\"Who\": \"BF\", \"LogOdds\": -0.21611995155245972}, {\"Who\": \"BF\", \"LogOdds\": -0.19666405419260144}, {\"Who\": \"BF\", \"LogOdds\": -0.20130865284554245}, {\"Who\": \"BF\", \"LogOdds\": -0.17274772410720196}, {\"Who\": \"BF\", \"LogOdds\": -0.18359391334035788}, {\"Who\": \"BF\", \"LogOdds\": -0.16625483808835564}, {\"Who\": \"BF\", \"LogOdds\": -0.20547898760715755}, {\"Who\": \"BF\", \"LogOdds\": -0.18266285204462043}, {\"Who\": \"BF\", \"LogOdds\": -0.20308752743812986}, {\"Who\": \"BF\", \"LogOdds\": -0.20562443101915528}, {\"Who\": \"BF\", \"LogOdds\": -0.14151535907205068}, {\"Who\": \"BF\", \"LogOdds\": -0.20279288602658013}, {\"Who\": \"BF\", \"LogOdds\": -0.16236440213962655}]}}, {\"mode\": \"vega-lite\"});\n",
       "</script>"
      ],
      "text/plain": [
       "alt.LayerChart(...)"
      ]
     },
     "execution_count": 37,
     "metadata": {},
     "output_type": "execute_result"
    }
   ],
   "source": [
    "#who = [\"Mom\"]*len(mom) + [\"Dad\"] *len(dad) + [\"GF\"]*len(gf) + [\"BF\"]*len(bf)\n",
    "#scores = mom + dad + gf + bf\n",
    "\n",
    "#out = pd.DataFrame(zip(who,scores), columns = [\"Who\",\"LogOdds\"])\n",
    "\n",
    "\n"
   ]
  }
 ],
 "metadata": {
  "kernelspec": {
   "display_name": "Python 3",
   "language": "python",
   "name": "python3"
  },
  "language_info": {
   "codemirror_mode": {
    "name": "ipython",
    "version": 3
   },
   "file_extension": ".py",
   "mimetype": "text/x-python",
   "name": "python",
   "nbconvert_exporter": "python",
   "pygments_lexer": "ipython3",
   "version": "3.7.6"
  }
 },
 "nbformat": 4,
 "nbformat_minor": 4
}
